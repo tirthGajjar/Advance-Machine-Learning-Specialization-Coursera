{
 "cells": [
  {
   "cell_type": "code",
   "execution_count": 1,
   "metadata": {},
   "outputs": [],
   "source": [
    "import numpy as np\n",
    "from sklearn import datasets as GenerateDataSet ## TO GENERATE A Dataset"
   ]
  },
  {
   "cell_type": "code",
   "execution_count": 2,
   "metadata": {},
   "outputs": [],
   "source": [
    "# Function to implement Gradient Descent\n",
    "\n",
    "def gradientDescent(inputFeaturesVect, outputVect, weightVect, learningRate, sampleSize, numIterations):\n",
    "    xTrans = inputFeaturesVect.transpose()\n",
    "    for i in range(0, numIterations):\n",
    "        hypothesis = np.dot(inputFeaturesVect, weightVect)\n",
    "        loss = hypothesis - outputVect\n",
    "        # Compute MSE loss\n",
    "        cost = np.sum(loss ** 2) / (sampleSize)\n",
    "        # Uncomment below line to track the progress of training\n",
    "        # print(\"Iteration %d | Cost: %f\" % (i, cost)) \n",
    "        # Average the gradient computed per each examaple, this is batch gradient descent.\n",
    "        gradient = np.dot(xTrans, loss) / sampleSize\n",
    "        # Update the weights vector using the gradient descent formula\n",
    "        weightVect = weightVect - learningRate * gradient\n",
    "    return weightVect"
   ]
  },
  {
   "cell_type": "code",
   "execution_count": 3,
   "metadata": {},
   "outputs": [],
   "source": [
    "# ref : http://scikit-learn.org/stable/modules/generated/sklearn.datasets.make_regression.html#sklearn.datasets.make_regression\n",
    "# Generate dataset with 100 features and 1000 samples\n",
    "inputFeatures, outputValues = GenerateDataSet.make_regression(n_samples=1000, n_features=100, n_informative=25, \n",
    "                                                              n_targets=1, bias=0.59, effective_rank=5, \n",
    "                                                              tail_strength=0.9, noise=0.99, shuffle=True, \n",
    "                                                              coef=False, random_state=100)"
   ]
  },
  {
   "cell_type": "code",
   "execution_count": 4,
   "metadata": {},
   "outputs": [
    {
     "name": "stdout",
     "output_type": "stream",
     "text": [
      "[  0.32274538  84.33631995   2.36399254   5.89288905   4.34127442\n",
      "   3.99377713  -5.86187722   7.86777932   8.5944982   -6.78443991\n",
      "   0.48382099  -9.01627555   2.06412983  -2.1523932   -6.43071612\n",
      "  -0.92003705   1.70218146   1.56234012  -6.10762956   8.16074488\n",
      "  -9.37990797  33.48173668   0.09690243   2.80033577  63.83491008\n",
      "  -3.07751862  -2.0839209    4.69407891  -0.15092791  37.07815946\n",
      "  -3.73542114  79.27182135   0.1496664    1.19535495   6.88782576\n",
      "  -3.83992492  11.24129058   4.72052052  -1.98840067 -10.77818106\n",
      "   1.45153828  42.06287089   6.23381715  20.02574695  -1.42019428\n",
      "  -2.19287815   4.42072933   1.19132596  -2.78555486   0.98599151\n",
      "  44.33874685   8.14257389  -4.57037765  17.98644955  87.46328569\n",
      "  -6.22254103  45.37548728   7.16784255  -6.59963685  82.78408034\n",
      "   2.64879702   0.15482774  -0.10911766  59.45854035   0.68024613\n",
      "  -1.52807884  -4.54024196   7.16116427   6.47980432   0.63848227\n",
      "  -8.05228401   1.32676424  -2.09930319  82.51967192  -4.55683767\n",
      "  -6.71763955  77.10309616  -4.47729625  79.86280789   0.90170778\n",
      "  69.77193926  11.2842605    2.38384722  18.02828529  92.82668022\n",
      "   2.4916237    0.70728135   9.05127995  49.09841285  73.77339118\n",
      "   0.31571084  -6.04601929  -6.8498909    8.86524715  -2.46699358\n",
      "  69.40776846  15.73757434   2.59030741   2.74182804  -8.21389404]\n"
     ]
    }
   ],
   "source": [
    "\n",
    "sampleSize, numberOfFeatures = np.shape(inputFeatures)\n",
    "\n",
    "# Number of iterations to run Gradient Descent and rate of learning\n",
    "numIterations= 100000\n",
    "learningRate = 0.5\n",
    "\n",
    "# Initialize the weights to 1s\n",
    "weights = np.ones(numberOfFeatures)\n",
    "\n",
    "# Run gradient descent on the generated dataset\n",
    "weights = gradientDescent(inputFeatures, outputValues, weights, learningRate, sampleSize, numIterations)\n",
    "\n",
    "# Print the trained weights\n",
    "print(weights)"
   ]
  },
  {
   "cell_type": "code",
   "execution_count": null,
   "metadata": {},
   "outputs": [],
   "source": []
  }
 ],
 "metadata": {
  "kernelspec": {
   "display_name": "Python 3",
   "language": "python",
   "name": "python3"
  },
  "language_info": {
   "codemirror_mode": {
    "name": "ipython",
    "version": 3
   },
   "file_extension": ".py",
   "mimetype": "text/x-python",
   "name": "python",
   "nbconvert_exporter": "python",
   "pygments_lexer": "ipython3",
   "version": "3.7.0"
  }
 },
 "nbformat": 4,
 "nbformat_minor": 2
}
